{
 "cells": [
  {
   "cell_type": "markdown",
   "metadata": {
    "collapsed": true
   },
   "source": [
    "Digit recognition based on the MNIST dataset"
   ]
  },
  {
   "cell_type": "code",
   "execution_count": 2,
   "metadata": {
    "collapsed": true
   },
   "outputs": [],
   "source": [
    "# These are all the modules we'll be using later. Make sure you can import them\n",
    "# before proceeding further.\n",
    "from __future__ import print_function\n",
    "import matplotlib.pyplot as plt\n",
    "import numpy as np\n",
    "import os\n",
    "import sys\n",
    "import tarfile\n",
    "from scipy import ndimage\n",
    "import tensorflow as tf\n",
    "\n",
    "%matplotlib inline"
   ]
  },
  {
   "cell_type": "markdown",
   "metadata": {},
   "source": [
    "Load MNIST test data"
   ]
  },
  {
   "cell_type": "code",
   "execution_count": 3,
   "metadata": {
    "collapsed": false
   },
   "outputs": [],
   "source": [
    "raw_training = np.loadtxt('/notebooks/mnist/train.csv', skiprows = 1, delimiter=',', dtype=np.float32)"
   ]
  },
  {
   "cell_type": "markdown",
   "metadata": {},
   "source": [
    "Preprocess the raw images, normalize the training data and turn the labels into a one-hot matrix"
   ]
  },
  {
   "cell_type": "code",
   "execution_count": 4,
   "metadata": {
    "collapsed": false
   },
   "outputs": [
    {
     "name": "stdout",
     "output_type": "stream",
     "text": [
      "(42000, 10)\n"
     ]
    },
    {
     "name": "stderr",
     "output_type": "stream",
     "text": [
      "/usr/local/lib/python2.7/dist-packages/ipykernel/__main__.py:9: DeprecationWarning: using a non-integer number instead of an integer will result in an error in the future\n"
     ]
    }
   ],
   "source": [
    "pixel_depth = 255.;\n",
    "image_size = 28\n",
    "num_channels = 1\n",
    "num_labels = 10\n",
    "\n",
    "def preprocess_labels(labels):\n",
    "    values = np.zeros((labels.shape[0], num_labels));\n",
    "    for i in range(labels.shape[0]):\n",
    "        values[i][labels[i]] = 1.0;\n",
    "    return values;\n",
    "\n",
    "def preprocess_data(input):\n",
    "    return (input - (pixel_depth * 0.5)) / pixel_depth\n",
    "\n",
    "\n",
    "labels_all = preprocess_labels(raw_training[:, 0])\n",
    "print(labels_all.shape)\n",
    "data_all = preprocess_data(raw_training[:, 1:]).reshape(42000, image_size, image_size)"
   ]
  },
  {
   "cell_type": "markdown",
   "metadata": {},
   "source": [
    "Visually inspect the result to make sure the transformations worked"
   ]
  },
  {
   "cell_type": "code",
   "execution_count": 5,
   "metadata": {
    "collapsed": false
   },
   "outputs": [
    {
     "name": "stdout",
     "output_type": "stream",
     "text": [
      "[[ 0.  1.  0.  0.  0.  0.  0.  0.  0.  0.]\n",
      " [ 1.  0.  0.  0.  0.  0.  0.  0.  0.  0.]\n",
      " [ 0.  1.  0.  0.  0.  0.  0.  0.  0.  0.]\n",
      " [ 0.  0.  0.  0.  1.  0.  0.  0.  0.  0.]\n",
      " [ 1.  0.  0.  0.  0.  0.  0.  0.  0.  0.]\n",
      " [ 1.  0.  0.  0.  0.  0.  0.  0.  0.  0.]\n",
      " [ 0.  0.  0.  0.  0.  0.  0.  1.  0.  0.]\n",
      " [ 0.  0.  0.  1.  0.  0.  0.  0.  0.  0.]\n",
      " [ 0.  0.  0.  0.  0.  1.  0.  0.  0.  0.]\n",
      " [ 0.  0.  0.  1.  0.  0.  0.  0.  0.  0.]]\n"
     ]
    }
   ],
   "source": [
    "print(labels_all[:10,:])"
   ]
  },
  {
   "cell_type": "code",
   "execution_count": 6,
   "metadata": {
    "collapsed": false,
    "scrolled": true
   },
   "outputs": [
    {
     "data": {
      "image/png": "[encoded data removed]",
      "text/plain": [
       "<matplotlib.figure.Figure at 0x7f4f7e3641d0>"
      ]
     },
     "metadata": {},
     "output_type": "display_data"
    }
   ],
   "source": [
    "def show_image(index):\n",
    "    plt.imshow(data_all[index,:,:], interpolation='nearest')\n",
    "    plt.show()\n",
    "\n",
    "show_image(6)"
   ]
  },
  {
   "cell_type": "markdown",
   "metadata": {},
   "source": [
    "Split the data into training, validation and testing sets"
   ]
  },
  {
   "cell_type": "code",
   "execution_count": 7,
   "metadata": {
    "collapsed": false
   },
   "outputs": [
    {
     "name": "stdout",
     "output_type": "stream",
     "text": [
      "(40000, 10)\n",
      "(40000, 28, 28)\n",
      "(1000, 10)\n",
      "(1000, 28, 28)\n",
      "(1000, 10)\n",
      "(1000, 28, 28)\n"
     ]
    }
   ],
   "source": [
    "training_count = 40000\n",
    "validation_index = training_count + 1000\n",
    "\n",
    "labels_train = labels_all[:training_count, :]\n",
    "data_train = data_all[:training_count, :]\n",
    "\n",
    "labels_test = labels_all[training_count:validation_index, :]\n",
    "data_test = data_all[training_count:validation_index, :, :]\n",
    "\n",
    "labels_validation = labels_all[validation_index:, :]\n",
    "data_validation = data_all[validation_index:, :, :]\n",
    "\n",
    "print(labels_train.shape)\n",
    "print(data_train.shape)\n",
    "print(labels_test.shape)\n",
    "print(data_test.shape)\n",
    "print(labels_validation.shape)\n",
    "print(data_validation.shape)\n",
    "\n",
    "raw_test = np.loadtxt('/notebooks/mnist/test.csv', skiprows = 1, delimiter=',', dtype=np.float32)\n",
    "\n",
    "final_test_data = preprocess_data(raw_test).reshape(raw_test.shape[0], image_size, image_size, 1)\n"
   ]
  },
  {
   "cell_type": "code",
   "execution_count": 13,
   "metadata": {
    "collapsed": false
   },
   "outputs": [
    {
     "name": "stdout",
     "output_type": "stream",
     "text": [
      "(1000, 28, 28)\n"
     ]
    }
   ],
   "source": [
    "image_size = 28\n",
    "num_channels = 1\n",
    "batch_size = 16\n",
    "patch_size = 5\n",
    "depth = 16\n",
    "num_hidden = 64\n",
    "num_labels = 10\n",
    "\n",
    "graph = tf.Graph()\n",
    "\n",
    "print(data_validation.shape)\n",
    "\n",
    "with graph.as_default():\n",
    "    \n",
    "    # Input data.\n",
    "    tf_train_dataset = tf.placeholder(tf.float32, shape=(batch_size, image_size, image_size, num_channels))\n",
    "    tf_train_labels = tf.placeholder(tf.float32, shape=(batch_size, num_labels))\n",
    "    tf_final_dataset = tf.placeholder(tf.float32, shape=(1000, image_size, image_size, num_channels))\n",
    "    tf_valid_dataset = tf.constant(data_validation.reshape(1000, image_size, image_size, num_channels))\n",
    "    tf_test_dataset = tf.constant(data_test.reshape(1000, image_size, image_size, num_channels))\n",
    "    \n",
    "\n",
    "    # Variables.\n",
    "    layer1_weights = tf.Variable(tf.truncated_normal([patch_size, patch_size, num_channels, depth], stddev=0.1))\n",
    "    layer1_biases = tf.Variable(tf.zeros([depth]))\n",
    "    layer2_weights = tf.Variable(tf.truncated_normal([patch_size, patch_size, depth, depth], stddev=0.1))\n",
    "    layer2_biases = tf.Variable(tf.constant(1.0, shape=[depth]))\n",
    "    layer3_weights = tf.Variable(tf.truncated_normal([image_size // 4 * image_size // 4 * depth, num_hidden], stddev=0.1))\n",
    "    layer3_biases = tf.Variable(tf.constant(1.0, shape=[num_hidden]))\n",
    "    layer4_weights = tf.Variable(tf.truncated_normal([num_hidden, num_labels], stddev=0.1))\n",
    "    layer4_biases = tf.Variable(tf.constant(1.0, shape=[num_labels]))\n",
    "  \n",
    "    # Model.\n",
    "    def model(data, dropout = False):\n",
    "        conv = tf.nn.conv2d(data, layer1_weights, [1, 2, 2, 1], padding='SAME')\n",
    "        hidden = tf.nn.relu(conv + layer1_biases)\n",
    "        conv = tf.nn.conv2d(hidden, layer2_weights, [1, 2, 2, 1], padding='SAME')\n",
    "        hidden = tf.nn.relu(conv + layer2_biases)\n",
    "        shape = hidden.get_shape().as_list()\n",
    "        reshape = tf.reshape(hidden, [shape[0], shape[1] * shape[2] * shape[3]])\n",
    "        hidden = tf.nn.relu(tf.matmul(reshape, layer3_weights) + layer3_biases)\n",
    "        return tf.matmul(hidden, layer4_weights) + layer4_biases\n",
    "  \n",
    "    # Training computation.\n",
    "    logits = model(tf_train_dataset, True)\n",
    "    loss = tf.reduce_mean(tf.nn.softmax_cross_entropy_with_logits(logits, tf_train_labels))\n",
    "    \n",
    "    # Optimizer.\n",
    "    optimizer = tf.train.GradientDescentOptimizer(0.05).minimize(loss)\n",
    "  \n",
    "    # Predictions for the training, validation, and test data.\n",
    "    train_prediction = tf.nn.softmax(logits)\n",
    "    valid_prediction = tf.nn.softmax(model(tf_valid_dataset))\n",
    "    test_prediction = tf.nn.softmax(model(tf_test_dataset))\n",
    "    \n",
    "    result_prediction = tf.nn.softmax(model(tf_final_dataset))"
   ]
  },
  {
   "cell_type": "code",
   "execution_count": 14,
   "metadata": {
    "collapsed": true
   },
   "outputs": [],
   "source": [
    "def accuracy(predictions, labels):\n",
    "    return (100.0 * np.sum(np.argmax(predictions, 1) == np.argmax(labels, 1)) / predictions.shape[0])"
   ]
  },
  {
   "cell_type": "markdown",
   "metadata": {},
   "source": [
    "Train model"
   ]
  },
  {
   "cell_type": "code",
   "execution_count": null,
   "metadata": {
    "collapsed": false,
    "scrolled": true
   },
   "outputs": [
    {
     "name": "stdout",
     "output_type": "stream",
     "text": [
      "Initialized\n",
      "Total steps 2500\n",
      "Progress: 0.00\n",
      "Minibatch loss at step 0: 3.629634\n",
      "Minibatch accuracy: 18.8%\n",
      "Validation accuracy: 9.5%\n",
      "Test accuracy: 10.3%\n",
      "Progress: 0.02\n",
      "Minibatch loss at step 50: 1.812971\n",
      "Minibatch accuracy: 31.2%\n",
      "Validation accuracy: 35.8%\n",
      "Test accuracy: 36.5%\n",
      "Progress: 0.04\n",
      "Minibatch loss at step 100: 1.535372\n",
      "Minibatch accuracy: 37.5%\n",
      "Validation accuracy: 52.4%\n",
      "Test accuracy: 53.5%\n",
      "Progress: 0.06\n",
      "Minibatch loss at step 150: 0.817328\n",
      "Minibatch accuracy: 75.0%\n",
      "Validation accuracy: 79.7%\n",
      "Test accuracy: 76.0%\n",
      "Progress: 0.08\n",
      "Minibatch loss at step 200: 0.416264\n",
      "Minibatch accuracy: 87.5%\n",
      "Validation accuracy: 82.8%\n",
      "Test accuracy: 80.4%\n",
      "Progress: 0.10\n",
      "Minibatch loss at step 250: 0.244597\n",
      "Minibatch accuracy: 93.8%\n",
      "Validation accuracy: 85.5%\n",
      "Test accuracy: 85.6%\n",
      "Progress: 0.12\n",
      "Minibatch loss at step 300: 0.330452\n",
      "Minibatch accuracy: 87.5%\n",
      "Validation accuracy: 86.9%\n",
      "Test accuracy: 87.9%\n",
      "Progress: 0.14\n",
      "Minibatch loss at step 350: 0.287484\n",
      "Minibatch accuracy: 93.8%\n",
      "Validation accuracy: 87.7%\n",
      "Test accuracy: 87.7%\n",
      "Progress: 0.16\n",
      "Minibatch loss at step 400: 0.078931\n",
      "Minibatch accuracy: 100.0%\n",
      "Validation accuracy: 89.2%\n",
      "Test accuracy: 88.8%\n",
      "Progress: 0.18\n",
      "Minibatch loss at step 450: 0.095489\n",
      "Minibatch accuracy: 100.0%\n",
      "Validation accuracy: 89.4%\n",
      "Test accuracy: 87.8%\n",
      "Progress: 0.20\n",
      "Minibatch loss at step 500: 0.047649\n",
      "Minibatch accuracy: 100.0%\n",
      "Validation accuracy: 88.6%\n",
      "Test accuracy: 88.9%\n",
      "Progress: 0.22\n",
      "Minibatch loss at step 550: 0.268122\n",
      "Minibatch accuracy: 87.5%\n",
      "Validation accuracy: 91.6%\n",
      "Test accuracy: 90.2%\n",
      "Progress: 0.24\n",
      "Minibatch loss at step 600: 0.117749\n",
      "Minibatch accuracy: 93.8%\n",
      "Validation accuracy: 90.8%\n",
      "Test accuracy: 92.2%\n",
      "Progress: 0.26\n",
      "Minibatch loss at step 650: 0.096850\n",
      "Minibatch accuracy: 100.0%\n",
      "Validation accuracy: 91.9%\n",
      "Test accuracy: 90.7%\n",
      "Progress: 0.28\n",
      "Minibatch loss at step 700: 0.081412\n",
      "Minibatch accuracy: 100.0%\n",
      "Validation accuracy: 93.0%\n",
      "Test accuracy: 93.0%\n",
      "Progress: 0.30\n",
      "Minibatch loss at step 750: 0.014238\n",
      "Minibatch accuracy: 100.0%\n",
      "Validation accuracy: 93.0%\n",
      "Test accuracy: 91.2%\n",
      "Progress: 0.32\n",
      "Minibatch loss at step 800: 0.099293\n",
      "Minibatch accuracy: 100.0%\n",
      "Validation accuracy: 91.1%\n",
      "Test accuracy: 89.9%\n",
      "Progress: 0.34\n",
      "Minibatch loss at step 850: 0.427861\n",
      "Minibatch accuracy: 93.8%\n",
      "Validation accuracy: 92.1%\n",
      "Test accuracy: 92.6%\n",
      "Progress: 0.36\n",
      "Minibatch loss at step 900: 0.333765\n",
      "Minibatch accuracy: 93.8%\n",
      "Validation accuracy: 92.9%\n",
      "Test accuracy: 92.6%\n",
      "Progress: 0.38\n",
      "Minibatch loss at step 950: 0.024518\n",
      "Minibatch accuracy: 100.0%\n",
      "Validation accuracy: 94.5%\n",
      "Test accuracy: 93.8%\n",
      "Progress: 0.40\n",
      "Minibatch loss at step 1000: 0.258416\n",
      "Minibatch accuracy: 87.5%\n",
      "Validation accuracy: 92.7%\n",
      "Test accuracy: 93.8%\n",
      "Progress: 0.42\n",
      "Minibatch loss at step 1050: 0.317887\n",
      "Minibatch accuracy: 93.8%\n",
      "Validation accuracy: 92.2%\n",
      "Test accuracy: 92.9%\n",
      "Progress: 0.44\n",
      "Minibatch loss at step 1100: 0.171741\n",
      "Minibatch accuracy: 93.8%\n",
      "Validation accuracy: 94.2%\n",
      "Test accuracy: 93.7%\n",
      "Progress: 0.46\n",
      "Minibatch loss at step 1150: 0.127259\n",
      "Minibatch accuracy: 93.8%\n",
      "Validation accuracy: 94.1%\n",
      "Test accuracy: 93.8%\n",
      "Progress: 0.48\n",
      "Minibatch loss at step 1200: 0.149510\n",
      "Minibatch accuracy: 93.8%\n",
      "Validation accuracy: 94.2%\n",
      "Test accuracy: 93.9%\n",
      "Progress: 0.50\n",
      "Minibatch loss at step 1250: 0.054433\n",
      "Minibatch accuracy: 100.0%\n",
      "Validation accuracy: 94.5%\n",
      "Test accuracy: 93.6%\n",
      "Progress: 0.52\n",
      "Minibatch loss at step 1300: 0.148163\n",
      "Minibatch accuracy: 93.8%\n",
      "Validation accuracy: 94.4%\n",
      "Test accuracy: 95.3%\n",
      "Progress: 0.54\n",
      "Minibatch loss at step 1350: 0.439385\n",
      "Minibatch accuracy: 81.2%\n",
      "Validation accuracy: 93.5%"
     ]
    }
   ],
   "source": [
    "import csv\n",
    "\n",
    "num_steps = training_count / batch_size\n",
    "\n",
    "with tf.Session(graph=graph) as session:\n",
    "    tf.initialize_all_variables().run()\n",
    "    print('Initialized')\n",
    "    print('Total steps %i' % num_steps)\n",
    "    for step in range(num_steps):\n",
    "        offset = (step * batch_size) % (labels_train.shape[0] - batch_size)\n",
    "        batch_data = data_train[offset:(offset + batch_size), :, :].reshape(batch_size, image_size, image_size, num_channels)\n",
    "        batch_labels = labels_train[offset:(offset + batch_size), :]\n",
    "        feed_dict = {tf_train_dataset : batch_data, tf_train_labels : batch_labels}\n",
    "        _, l, predictions = session.run([optimizer, loss, train_prediction], feed_dict=feed_dict)\n",
    "        if (step % 50 == 0):\n",
    "            print('Progress: %.2f' % (float(step) / float(num_steps)))\n",
    "            print('Minibatch loss at step %d: %f' % (step, l))\n",
    "            print('Minibatch accuracy: %.1f%%' % accuracy(predictions, batch_labels))\n",
    "            print('Validation accuracy: %.1f%%' % accuracy(valid_prediction.eval(), labels_validation))\n",
    "            print('Test accuracy: %.1f%%' % accuracy(test_prediction.eval(), labels_test))\n",
    "    \n",
    "    with open('/notebooks/mnist/test_output.csv', 'w') as csvfile:\n",
    "        fieldnames = ['ImageId','Label']\n",
    "        writer = csv.DictWriter(csvfile, fieldnames=fieldnames)\n",
    "        writer.writeheader()\n",
    "        num_steps = final_test_data.shape[0] / 1000\n",
    "        for num in range(num_steps):\n",
    "            offset = (step * 1000) % (final_test_data.shape[0] - 1000)\n",
    "            predictions = np.argmax(result_prediction.eval({tf_final_dataset: final_test_data[offset:(offset + 1000), :, :, :]}), 1)\n",
    "            for i in range(1000):\n",
    "                writer.writerow({'ImageId': num * 1000 + i + 1, 'Label': predictions[i]})"
   ]
  },
  {
   "cell_type": "code",
   "execution_count": null,
   "metadata": {
    "collapsed": true
   },
   "outputs": [],
   "source": []
  }
 ],
 "metadata": {
  "kernelspec": {
   "display_name": "Python 2",
   "language": "python",
   "name": "python2"
  },
  "language_info": {
   "codemirror_mode": {
    "name": "ipython",
    "version": 2
   },
   "file_extension": ".py",
   "mimetype": "text/x-python",
   "name": "python",
   "nbconvert_exporter": "python",
   "pygments_lexer": "ipython2",
   "version": "2.7.6"
  }
 },
 "nbformat": 4,
 "nbformat_minor": 0
}
